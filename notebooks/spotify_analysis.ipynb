{
 "cells": [
  {
   "cell_type": "markdown",
   "id": "69bca69b",
   "metadata": {},
   "source": [
    "Perform ETL "
   ]
  },
  {
   "cell_type": "code",
   "execution_count": 11,
   "id": "ddd674a8",
   "metadata": {},
   "outputs": [
    {
     "name": "stderr",
     "output_type": "stream",
     "text": [
      "INFO:root:Initializing Spotify API client...\n",
      "INFO:root:Spotify API client initialized successfully.\n",
      "INFO:root:Searching for playlist 'Top Hits of 2020'...\n",
      "INFO:root:Searching for playlist 'Top Hits of 2021'...\n",
      "INFO:root:Searching for playlist 'Top Hits of 2022'...\n",
      "INFO:root:Searching for playlist 'Top Hits of 2023'...\n",
      "INFO:root:Searching for playlist 'Top Hits of 2024'...\n",
      "INFO:root:Fetching tracks for playlist 2020...\n",
      "INFO:root:Fetching tracks for playlist 2021...\n",
      "INFO:root:Fetching tracks for playlist 2022...\n",
      "INFO:root:Fetching tracks for playlist 2023...\n",
      "INFO:root:Fetching tracks for playlist 2024...\n",
      "INFO:root:Transforming raw data into DataFrame\n"
     ]
    },
    {
     "ename": "OSError",
     "evalue": "The data folder 'data' doesn't exist.",
     "output_type": "error",
     "traceback": [
      "\u001b[31m---------------------------------------------------------------------------\u001b[39m",
      "\u001b[31mOSError\u001b[39m                                   Traceback (most recent call last)",
      "\u001b[36mCell\u001b[39m\u001b[36m \u001b[39m\u001b[32mIn[11]\u001b[39m\u001b[32m, line 3\u001b[39m\n\u001b[32m      1\u001b[39m \u001b[38;5;28;01mfrom\u001b[39;00m\u001b[38;5;250m \u001b[39m\u001b[34;01mmain\u001b[39;00m\u001b[38;5;250m \u001b[39m\u001b[38;5;28;01mimport\u001b[39;00m run_pipeline\n\u001b[32m----> \u001b[39m\u001b[32m3\u001b[39m \u001b[43mrun_pipeline\u001b[49m\u001b[43m(\u001b[49m\u001b[43m)\u001b[49m\n",
      "\u001b[36mFile \u001b[39m\u001b[32m~/Documents/jules/spotify_hits/src/main.py:10\u001b[39m, in \u001b[36mrun_pipeline\u001b[39m\u001b[34m()\u001b[39m\n\u001b[32m      8\u001b[39m raw_data = extract_tracks(sp, playlists)\n\u001b[32m      9\u001b[39m df = transform_to_dataframe(raw_data)\n\u001b[32m---> \u001b[39m\u001b[32m10\u001b[39m \u001b[43msave_to_csv\u001b[49m\u001b[43m(\u001b[49m\u001b[43mdf\u001b[49m\u001b[43m,\u001b[49m\u001b[43m \u001b[49m\u001b[43mCSV_PATH\u001b[49m\u001b[43m,\u001b[49m\u001b[43m \u001b[49m\u001b[43mDATA_FOLDER\u001b[49m\u001b[43m)\u001b[49m\n",
      "\u001b[36mFile \u001b[39m\u001b[32m~/Documents/jules/spotify_hits/src/etl.py:145\u001b[39m, in \u001b[36msave_to_csv\u001b[39m\u001b[34m(df, csv_name, folder)\u001b[39m\n\u001b[32m    132\u001b[39m \u001b[38;5;250m\u001b[39m\u001b[33;03m\"\"\"\u001b[39;00m\n\u001b[32m    133\u001b[39m \u001b[33;03mSaves the given DataFrame as a CSV in the specified folder.\u001b[39;00m\n\u001b[32m    134\u001b[39m \n\u001b[32m   (...)\u001b[39m\u001b[32m    141\u001b[39m \u001b[33;03m    IOError: If folder does not exist or write fails\u001b[39;00m\n\u001b[32m    142\u001b[39m \u001b[33;03m\"\"\"\u001b[39;00m\n\u001b[32m    144\u001b[39m \u001b[38;5;28;01mif\u001b[39;00m \u001b[38;5;129;01mnot\u001b[39;00m os.path.exists(folder):\n\u001b[32m--> \u001b[39m\u001b[32m145\u001b[39m     \u001b[38;5;28;01mraise\u001b[39;00m \u001b[38;5;167;01mIOError\u001b[39;00m(\u001b[33mf\u001b[39m\u001b[33m\"\u001b[39m\u001b[33mThe data folder \u001b[39m\u001b[33m'\u001b[39m\u001b[38;5;132;01m{\u001b[39;00mfolder\u001b[38;5;132;01m}\u001b[39;00m\u001b[33m'\u001b[39m\u001b[33m doesn\u001b[39m\u001b[33m'\u001b[39m\u001b[33mt exist.\u001b[39m\u001b[33m\"\u001b[39m)\n\u001b[32m    147\u001b[39m file_path = os.path.join(folder, csv_name)\n\u001b[32m    148\u001b[39m \u001b[38;5;28;01mif\u001b[39;00m os.path.exists(file_path):\n",
      "\u001b[31mOSError\u001b[39m: The data folder 'data' doesn't exist."
     ]
    }
   ],
   "source": [
    "from main import run_pipeline\n",
    "\n",
    "run_pipeline()\n"
   ]
  },
  {
   "cell_type": "code",
   "execution_count": 9,
   "id": "a6a2d7c1",
   "metadata": {},
   "outputs": [
    {
     "ename": "ModuleNotFoundError",
     "evalue": "No module named 'matplotlib'",
     "output_type": "error",
     "traceback": [
      "\u001b[31m---------------------------------------------------------------------------\u001b[39m",
      "\u001b[31mModuleNotFoundError\u001b[39m                       Traceback (most recent call last)",
      "\u001b[36mCell\u001b[39m\u001b[36m \u001b[39m\u001b[32mIn[9]\u001b[39m\u001b[32m, line 2\u001b[39m\n\u001b[32m      1\u001b[39m \u001b[38;5;28;01mimport\u001b[39;00m\u001b[38;5;250m \u001b[39m\u001b[34;01mpandas\u001b[39;00m\u001b[38;5;250m \u001b[39m\u001b[38;5;28;01mas\u001b[39;00m\u001b[38;5;250m \u001b[39m\u001b[34;01mpd\u001b[39;00m\n\u001b[32m----> \u001b[39m\u001b[32m2\u001b[39m \u001b[38;5;28;01mimport\u001b[39;00m\u001b[38;5;250m \u001b[39m\u001b[34;01mmatplotlib\u001b[39;00m\u001b[34;01m.\u001b[39;00m\u001b[34;01mpyplot\u001b[39;00m\u001b[38;5;250m \u001b[39m\u001b[38;5;28;01mas\u001b[39;00m\u001b[38;5;250m \u001b[39m\u001b[34;01mplt\u001b[39;00m\n\u001b[32m      3\u001b[39m \u001b[38;5;28;01mimport\u001b[39;00m\u001b[38;5;250m \u001b[39m\u001b[34;01mseaborn\u001b[39;00m\u001b[38;5;250m \u001b[39m\u001b[38;5;28;01mas\u001b[39;00m\u001b[38;5;250m \u001b[39m\u001b[34;01msns\u001b[39;00m\n\u001b[32m      5\u001b[39m df = pd.read_csv(\u001b[33m\"\u001b[39m\u001b[33m../data/top_hits.csv\u001b[39m\u001b[33m\"\u001b[39m)\n",
      "\u001b[31mModuleNotFoundError\u001b[39m: No module named 'matplotlib'"
     ]
    }
   ],
   "source": [
    "import pandas as pd\n",
    "import matplotlib.pyplot as plt\n",
    "import seaborn as sns\n",
    "\n",
    "df = pd.read_csv(\"../data/top_hits.csv\")\n",
    "df.head()\n",
    "\n"
   ]
  },
  {
   "cell_type": "code",
   "execution_count": null,
   "id": "0d7d8e00",
   "metadata": {},
   "outputs": [],
   "source": [
    "# Corrélation entre artist_popularity, artist_followers, track_popularity\n",
    "corr = df[[\"artist_followers\", \"artist_popularity\", \"track_popularity\"]].corr()\n",
    "sns.heatmap(corr, annot=True, cmap=\"coolwarm\")\n",
    "plt.title(\"Correlation Matrix\")\n",
    "plt.show()\n",
    "\n",
    "# Scatter plot: followers vs popularité artiste\n",
    "sns.scatterplot(\n",
    "    data=df, x=\"artist_followers\", y=\"artist_popularity\", alpha=0.5\n",
    ")\n",
    "plt.title(\"Artist Popularity vs Followers\")\n",
    "plt.xscale(\"log\")  # followers varient beaucoup\n",
    "plt.show()\n",
    "\n",
    "# Scatter plot: track_popularity vs artist_popularity\n",
    "sns.scatterplot(\n",
    "    data=df, x=\"track_popularity\", y=\"artist_popularity\", alpha=0.5\n",
    ")\n",
    "plt.title(\"Artist Popularity vs Track Popularity\")\n",
    "plt.show()\n"
   ]
  }
 ],
 "metadata": {
  "kernelspec": {
   "display_name": ".venv",
   "language": "python",
   "name": "python3"
  },
  "language_info": {
   "codemirror_mode": {
    "name": "ipython",
    "version": 3
   },
   "file_extension": ".py",
   "mimetype": "text/x-python",
   "name": "python",
   "nbconvert_exporter": "python",
   "pygments_lexer": "ipython3",
   "version": "3.11.7"
  }
 },
 "nbformat": 4,
 "nbformat_minor": 5
}
